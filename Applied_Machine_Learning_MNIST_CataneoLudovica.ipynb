{
  "nbformat": 4,
  "nbformat_minor": 0,
  "metadata": {
    "accelerator": "GPU",
    "colab": {
      "name": "Applied_Machine_Learning_MNIST_CataneoLudovica.ipynb",
      "provenance": [],
      "collapsed_sections": [],
      "toc_visible": true,
      "authorship_tag": "ABX9TyOKF60ufDg+6Kg8m+xET/bX",
      "include_colab_link": true
    },
    "kernelspec": {
      "display_name": "Python 3",
      "name": "python3"
    }
  },
  "cells": [
    {
      "cell_type": "markdown",
      "metadata": {
        "id": "view-in-github",
        "colab_type": "text"
      },
      "source": [
        "<a href=\"https://colab.research.google.com/github/LudovicaCataneo/AMLproject/blob/main/Applied_Machine_Learning_MNIST_CataneoLudovica.ipynb\" target=\"_parent\"><img src=\"https://colab.research.google.com/assets/colab-badge.svg\" alt=\"Open In Colab\"/></a>"
      ]
    },
    {
      "cell_type": "markdown",
      "metadata": {
        "id": "QOpxpOTtQ7U8"
      },
      "source": [
        "# **Applied Machine Learning - MNIST Project**\n",
        "---\n",
        "##University of Bologna - Italy\n",
        "\n",
        "##Bioinformatics\n",
        "\n",
        "*Ludovica Cataneo*\n",
        "\n",
        "---"
      ]
    },
    {
      "cell_type": "markdown",
      "metadata": {
        "id": "apUayMUwsYpK"
      },
      "source": [
        "**MNIST database** (*Modified National Institute of Standards and Technology database*)  is a large database of handwritten digits (0 to 9) that is commonly used for training various image processing systems. The database contains 60,000 training images and 10,000 testing images each of size 28x28. \n",
        "\n",
        "Since its release in 1999, this classic dataset of has served as the basis for benchmarking classification algorithms. As new machine learning techniques emerge, MNIST remains a reliable resource for researchers and learners alike.\n",
        "\n",
        "##**Aim of the project**\n",
        "The goal of this project is to produce a handwriting classifier based on different Machine Learning approaches:\n",
        "- Decision Tree\n",
        "- Random Forest\n",
        "- Convolutional Neural Networks\n",
        "\n",
        "We will compare them and discuss their differences in terms of performance and accuracy."
      ]
    },
    {
      "cell_type": "markdown",
      "metadata": {
        "id": "24KOWUfyQlPn"
      },
      "source": [
        "## Loading and visualizing data\n",
        "---"
      ]
    },
    {
      "cell_type": "code",
      "metadata": {
        "colab": {
          "base_uri": "https://localhost:8080/"
        },
        "id": "hTLp1Ltq8WBx",
        "outputId": "b93e527e-0225-404c-d01d-26b235fd9583"
      },
      "source": [
        "#This is a useful tool able to estimate the time needed to run each cell\n",
        "!pip install ipython-autotime\n",
        "%load_ext autotime\n"
      ],
      "execution_count": 1,
      "outputs": [
        {
          "output_type": "stream",
          "text": [
            "Collecting ipython-autotime\n",
            "  Downloading https://files.pythonhosted.org/packages/b4/c9/b413a24f759641bc27ef98c144b590023c8038dfb8a3f09e713e9dff12c1/ipython_autotime-0.3.1-py2.py3-none-any.whl\n",
            "Requirement already satisfied: ipython in /usr/local/lib/python3.7/dist-packages (from ipython-autotime) (5.5.0)\n",
            "Requirement already satisfied: decorator in /usr/local/lib/python3.7/dist-packages (from ipython->ipython-autotime) (4.4.2)\n",
            "Requirement already satisfied: pickleshare in /usr/local/lib/python3.7/dist-packages (from ipython->ipython-autotime) (0.7.5)\n",
            "Requirement already satisfied: simplegeneric>0.8 in /usr/local/lib/python3.7/dist-packages (from ipython->ipython-autotime) (0.8.1)\n",
            "Requirement already satisfied: pexpect; sys_platform != \"win32\" in /usr/local/lib/python3.7/dist-packages (from ipython->ipython-autotime) (4.8.0)\n",
            "Requirement already satisfied: traitlets>=4.2 in /usr/local/lib/python3.7/dist-packages (from ipython->ipython-autotime) (5.0.5)\n",
            "Requirement already satisfied: setuptools>=18.5 in /usr/local/lib/python3.7/dist-packages (from ipython->ipython-autotime) (54.2.0)\n",
            "Requirement already satisfied: prompt-toolkit<2.0.0,>=1.0.4 in /usr/local/lib/python3.7/dist-packages (from ipython->ipython-autotime) (1.0.18)\n",
            "Requirement already satisfied: pygments in /usr/local/lib/python3.7/dist-packages (from ipython->ipython-autotime) (2.6.1)\n",
            "Requirement already satisfied: ptyprocess>=0.5 in /usr/local/lib/python3.7/dist-packages (from pexpect; sys_platform != \"win32\"->ipython->ipython-autotime) (0.7.0)\n",
            "Requirement already satisfied: ipython-genutils in /usr/local/lib/python3.7/dist-packages (from traitlets>=4.2->ipython->ipython-autotime) (0.2.0)\n",
            "Requirement already satisfied: six>=1.9.0 in /usr/local/lib/python3.7/dist-packages (from prompt-toolkit<2.0.0,>=1.0.4->ipython->ipython-autotime) (1.15.0)\n",
            "Requirement already satisfied: wcwidth in /usr/local/lib/python3.7/dist-packages (from prompt-toolkit<2.0.0,>=1.0.4->ipython->ipython-autotime) (0.2.5)\n",
            "Installing collected packages: ipython-autotime\n",
            "Successfully installed ipython-autotime-0.3.1\n",
            "time: 1.63 ms (started: 2021-04-09 15:05:43 +00:00)\n"
          ],
          "name": "stdout"
        }
      ]
    },
    {
      "cell_type": "markdown",
      "metadata": {
        "id": "hip5pHp3E1Ra"
      },
      "source": [
        "### Import modules"
      ]
    },
    {
      "cell_type": "code",
      "metadata": {
        "colab": {
          "base_uri": "https://localhost:8080/"
        },
        "id": "v0LsdvHk9UUM",
        "outputId": "cf0a87fc-1886-4844-91a8-18f4c611c12b"
      },
      "source": [
        "# tensorflow\n",
        "import tensorflow as tf\n",
        "from tensorflow import keras\n",
        "# numpy\n",
        "import numpy as np\n",
        "# matplotlib\n",
        "import matplotlib.pyplot as plt\n",
        "# seaborn\n",
        "import seaborn as sns"
      ],
      "execution_count": 2,
      "outputs": [
        {
          "output_type": "stream",
          "text": [
            "time: 1.82 s (started: 2021-04-09 15:05:43 +00:00)\n"
          ],
          "name": "stdout"
        }
      ]
    },
    {
      "cell_type": "markdown",
      "metadata": {
        "id": "-X4TKz8qCv7f"
      },
      "source": [
        "###Import data \n",
        "\n",
        "The MNIST dataset is conveniently provided to us as part of the *Keras library*, so we can easily load the dataset. Out of the 70,000 images provided in the dataset, 60,000 are given for training and 10,000 are given for testing.\n",
        "\n",
        "When we load the dataset:\n",
        "- *train_images* and *test_images* will contain all the images\n",
        "- *train_labels* and *test_labels* will contain the digits related to each image. "
      ]
    },
    {
      "cell_type": "code",
      "metadata": {
        "colab": {
          "base_uri": "https://localhost:8080/"
        },
        "id": "XRLtxojpBgou",
        "outputId": "c147792c-db3b-4b3f-fdc8-6e03d563df9d"
      },
      "source": [
        "#download mnist data and split into train and test sets\n",
        "mnist = keras.datasets.mnist\n",
        "(train_images, train_labels), (test_images, test_labels) = mnist.load_data()\n"
      ],
      "execution_count": 3,
      "outputs": [
        {
          "output_type": "stream",
          "text": [
            "Downloading data from https://storage.googleapis.com/tensorflow/tf-keras-datasets/mnist.npz\n",
            "11493376/11490434 [==============================] - 0s 0us/step\n",
            "time: 467 ms (started: 2021-04-09 15:05:45 +00:00)\n"
          ],
          "name": "stdout"
        }
      ]
    },
    {
      "cell_type": "markdown",
      "metadata": {
        "id": "9jON_FKk9IRE"
      },
      "source": [
        "### Data exploration\n",
        "Check for the dataset *dimension*."
      ]
    },
    {
      "cell_type": "code",
      "metadata": {
        "colab": {
          "base_uri": "https://localhost:8080/"
        },
        "id": "SOHUJB0jcJiL",
        "outputId": "879c1973-bfe9-41e0-a0fc-2f5745c5f8de"
      },
      "source": [
        "print('Training images:', train_images.shape)\n",
        "print('Number of training labels:', len(train_labels))\n",
        "print('Testing images:', test_images.shape)\n",
        "print('Number of testing labels:', len(test_labels))"
      ],
      "execution_count": 4,
      "outputs": [
        {
          "output_type": "stream",
          "text": [
            "Training images: (60000, 28, 28)\n",
            "Number of training labels: 60000\n",
            "Testing images: (10000, 28, 28)\n",
            "Number of testing labels: 10000\n",
            "time: 2.69 ms (started: 2021-04-09 15:05:46 +00:00)\n"
          ],
          "name": "stdout"
        }
      ]
    },
    {
      "cell_type": "markdown",
      "metadata": {
        "id": "XaTa26_cEqIt"
      },
      "source": [
        "*Visualize*  data randomly selected from the training set, in order to see the images and the related labels."
      ]
    },
    {
      "cell_type": "code",
      "metadata": {
        "colab": {
          "base_uri": "https://localhost:8080/",
          "height": 607
        },
        "id": "Mo9Qa-2lcOaS",
        "outputId": "0f1e5e5b-a0bc-44f6-dce9-7e81d4273f65"
      },
      "source": [
        "#set figure dimension\n",
        "plt.figure(figsize=(10,10))\n",
        "\n",
        "#pick 25 random digits\n",
        "random_inds = np.random.choice(60000,25)\n",
        "for i in range(25):\n",
        "  plt.subplot(5,5,i+1)\n",
        "  plt.xticks([])\n",
        "  plt.yticks([])\n",
        "  plt.grid(False)\n",
        "  image_ind = random_inds[i]\n",
        "  #show images using a binary color map\n",
        "  plt.imshow(train_images[image_ind], cmap=plt.cm.binary)\n",
        "  plt.xlabel(train_labels[image_ind])\n",
        "plt.show()"
      ],
      "execution_count": 5,
      "outputs": [
        {
          "output_type": "display_data",
          "data": {
            "image/png": "[encoded data removed]",
            "text/plain": [
              "<Figure size 720x720 with 25 Axes>"
            ]
          },
          "metadata": {
            "tags": []
          }
        },
        {
          "output_type": "stream",
          "text": [
            "time: 757 ms (started: 2021-04-09 15:05:46 +00:00)\n"
          ],
          "name": "stdout"
        }
      ]
    },
    {
      "cell_type": "markdown",
      "metadata": {
        "id": "WIVQV2a3l866"
      },
      "source": [
        "Explore the *class distribution*."
      ]
    },
    {
      "cell_type": "code",
      "metadata": {
        "colab": {
          "base_uri": "https://localhost:8080/",
          "height": 371
        },
        "id": "8UkOGxMgdO6r",
        "outputId": "5342fc56-d77f-4a27-fdf4-b62e55f05b11"
      },
      "source": [
        "count_plot = sns.countplot(train_labels, palette=\"rocket\")\n",
        "count_plot.set(xlabel='classes', ylabel='classes counts')"
      ],
      "execution_count": 6,
      "outputs": [
        {
          "output_type": "stream",
          "text": [
            "/usr/local/lib/python3.7/dist-packages/seaborn/_decorators.py:43: FutureWarning: Pass the following variable as a keyword arg: x. From version 0.12, the only valid positional argument will be `data`, and passing other arguments without an explicit keyword will result in an error or misinterpretation.\n",
            "  FutureWarning\n"
          ],
          "name": "stderr"
        },
        {
          "output_type": "execute_result",
          "data": {
            "text/plain": [
              "[Text(0, 0.5, 'classes counts'), Text(0.5, 0, 'classes')]"
            ]
          },
          "metadata": {
            "tags": []
          },
          "execution_count": 6
        },
        {
          "output_type": "display_data",
          "data": {
            "image/png": "[encoded data removed]",
            "text/plain": [
              "<Figure size 432x288 with 1 Axes>"
            ]
          },
          "metadata": {
            "tags": [],
            "needs_background": "light"
          }
        },
        {
          "output_type": "stream",
          "text": [
            "time: 191 ms (started: 2021-04-09 15:05:46 +00:00)\n"
          ],
          "name": "stdout"
        }
      ]
    },
    {
      "cell_type": "markdown",
      "metadata": {
        "id": "rKblW8cTQ0PD"
      },
      "source": [
        "## Data pre-processing\n",
        "---"
      ]
    },
    {
      "cell_type": "markdown",
      "metadata": {
        "id": "NOiQz2Uzh1F2"
      },
      "source": [
        "In any Machine Learning process, data preprocessing is that step in which data gets transformed to bring it to such a state that the machine can  better understand and interpret it. "
      ]
    },
    {
      "cell_type": "markdown",
      "metadata": {
        "id": "ccKjzn-kjXj_"
      },
      "source": [
        "**Deskewing** is the process of straightening an image that has been scanned or written crookedly — that is an image that is slanting too far in one direction, or one that is misaligned.\n",
        "\n",
        "All the images in the dataset were processed with deskewing, using the method available at https://fsix.github.io/mnist/Deskewing.html\n",
        "\n",
        "[The accuracy of each method used in this project has benefited from the use of this procedure.]\n"
      ]
    },
    {
      "cell_type": "code",
      "metadata": {
        "colab": {
          "base_uri": "https://localhost:8080/"
        },
        "id": "Q6uV2QaDhQvy",
        "outputId": "bc5e62d7-de17-4328-cd13-def8360fc5e6"
      },
      "source": [
        "import scipy as sp\n",
        "from scipy.ndimage import interpolation\n",
        "\n",
        "\n",
        "def moments(train_images):\n",
        "  c0,c1 = np.mgrid[:train_images.shape[0],:train_images.shape[1]] # A trick in numPy to create a mesh grid\n",
        "  totalImage = np.sum(train_images) #sum of pixels\n",
        "  m0 = np.sum(c0*train_images)/totalImage #mu_x\n",
        "  m1 = np.sum(c1*train_images)/totalImage #mu_y\n",
        "  m00 = np.sum((c0-m0)**2*train_images)/totalImage #var(x)\n",
        "  m11 = np.sum((c1-m1)**2*train_images)/totalImage #var(y)\n",
        "  m01 = np.sum((c0-m0)*(c1-m1)*train_images)/totalImage #covariance(x,y)\n",
        "  mu_vector = np.array([m0,m1])\n",
        "  covariance_matrix = np.array([[m00,m01],[m01,m11]])\n",
        "  return mu_vector, covariance_matrix\n",
        "\n",
        "def deskew(train_images):\n",
        "  c,v = moments(train_images)\n",
        "  alpha = v[0,1]/v[0,0]\n",
        "  affine = np.array([[1,0],[alpha,1]])\n",
        "  ocenter = np.array(train_images.shape)/2.0\n",
        "  offset = c-np.dot(affine,ocenter)\n",
        "  return interpolation.affine_transform(train_images,affine,offset=offset)\n"
      ],
      "execution_count": 7,
      "outputs": [
        {
          "output_type": "stream",
          "text": [
            "time: 12.7 ms (started: 2021-04-09 15:05:46 +00:00)\n"
          ],
          "name": "stdout"
        }
      ]
    },
    {
      "cell_type": "markdown",
      "metadata": {
        "id": "5oD0KYMiXYqv"
      },
      "source": [
        "An example in which the results of deskewing can be appreciated:"
      ]
    },
    {
      "cell_type": "code",
      "metadata": {
        "colab": {
          "base_uri": "https://localhost:8080/",
          "height": 236
        },
        "id": "6eNT4TjshXic",
        "outputId": "d885ed51-3582-4463-a70a-b5ec928c38ed"
      },
      "source": [
        "plt.subplot(1, 2, 1)\n",
        "plt.imshow(train_images[7].reshape(28,28))\n",
        "\n",
        "newim = deskew(train_images[7].reshape(28,28))\n",
        "plt.subplot(1, 2, 2)\n",
        "plt.imshow(newim)"
      ],
      "execution_count": 8,
      "outputs": [
        {
          "output_type": "execute_result",
          "data": {
            "text/plain": [
              "<matplotlib.image.AxesImage at 0x7fadcff235d0>"
            ]
          },
          "metadata": {
            "tags": []
          },
          "execution_count": 8
        },
        {
          "output_type": "display_data",
          "data": {
            "image/png": "[encoded data removed]",
            "text/plain": [
              "<Figure size 432x288 with 2 Axes>"
            ]
          },
          "metadata": {
            "tags": [],
            "needs_background": "light"
          }
        },
        {
          "output_type": "stream",
          "text": [
            "time: 247 ms (started: 2021-04-09 15:05:47 +00:00)\n"
          ],
          "name": "stdout"
        }
      ]
    },
    {
      "cell_type": "markdown",
      "metadata": {
        "id": "y4jJzWgPXRbK"
      },
      "source": [
        "All the images in the dataset were processed with deskewing."
      ]
    },
    {
      "cell_type": "code",
      "metadata": {
        "colab": {
          "base_uri": "https://localhost:8080/"
        },
        "id": "nk1el3Yvhe7Q",
        "outputId": "277cbb0a-3587-4b11-e323-f5cdd5e665c0"
      },
      "source": [
        "def deskewAll(train_images):\n",
        "    currents = []\n",
        "    for i in range(len(train_images)):\n",
        "        currents.append(deskew(train_images[i].reshape(28,28)).flatten())\n",
        "    return np.array(currents)\n",
        "\n",
        "train_images_deskewed = deskewAll(train_images)\n",
        "test_images_deskewed = deskewAll(test_images)\n",
        "\n"
      ],
      "execution_count": 9,
      "outputs": [
        {
          "output_type": "stream",
          "text": [
            "time: 20.4 s (started: 2021-04-09 15:05:47 +00:00)\n"
          ],
          "name": "stdout"
        }
      ]
    },
    {
      "cell_type": "markdown",
      "metadata": {
        "id": "oBdYKBDUmIAc"
      },
      "source": [
        "## Decision Tree\n",
        "---"
      ]
    },
    {
      "cell_type": "markdown",
      "metadata": {
        "id": "NPG44I7C-fFK"
      },
      "source": [
        "The first approach employed concern the generation of a ***decision tree***, a supervised learningh method used for both classification and regression problems. The goal is to create a model that predicts the value of a target variable by learning simple decision rules inferred from the data features. \n",
        "\n",
        "A decision tree is a predictive model, where each  internal node denotes a test on an attribute, each branch represents an outcome of the test, and each leaf node holds a class label."
      ]
    },
    {
      "cell_type": "code",
      "metadata": {
        "colab": {
          "base_uri": "https://localhost:8080/"
        },
        "id": "u6cOgdfQgGlb",
        "outputId": "58da7a07-dfa8-4a76-8ab9-2a0b82259efb"
      },
      "source": [
        "from sklearn import tree\n",
        "#reshaping data\n",
        "train_images = train_images_deskewed.flatten().reshape(60000,784)\n",
        "test_images = test_images_deskewed.flatten().reshape(10000,784)\n",
        "#training the model\n",
        "tree_clf = tree.DecisionTreeClassifier(max_depth=10)\n",
        "tree_clf.fit(train_images,train_labels)"
      ],
      "execution_count": 10,
      "outputs": [
        {
          "output_type": "execute_result",
          "data": {
            "text/plain": [
              "DecisionTreeClassifier(ccp_alpha=0.0, class_weight=None, criterion='gini',\n",
              "                       max_depth=10, max_features=None, max_leaf_nodes=None,\n",
              "                       min_impurity_decrease=0.0, min_impurity_split=None,\n",
              "                       min_samples_leaf=1, min_samples_split=2,\n",
              "                       min_weight_fraction_leaf=0.0, presort='deprecated',\n",
              "                       random_state=None, splitter='best')"
            ]
          },
          "metadata": {
            "tags": []
          },
          "execution_count": 10
        },
        {
          "output_type": "stream",
          "text": [
            "time: 10.8 s (started: 2021-04-09 15:06:07 +00:00)\n"
          ],
          "name": "stdout"
        }
      ]
    },
    {
      "cell_type": "markdown",
      "metadata": {
        "id": "Q5W1APfH-pRO"
      },
      "source": [
        "It is possible to visualize the tree that has been generated with the following code."
      ]
    },
    {
      "cell_type": "code",
      "metadata": {
        "colab": {
          "base_uri": "https://localhost:8080/"
        },
        "id": "RaG0Cicdh2l7",
        "outputId": "3a2afc0c-2453-4237-ea5b-b980631415b2"
      },
      "source": [
        "#import sys\n",
        "#import os\n",
        "\n",
        "#dtreeviz is a library that allows a nice visualization of the decision tree\n",
        "#!pip install -q dtreeviz\n",
        "#from dtreeviz.trees import *"
      ],
      "execution_count": 41,
      "outputs": [
        {
          "output_type": "stream",
          "text": [
            "time: 923 µs (started: 2021-04-09 15:47:55 +00:00)\n"
          ],
          "name": "stdout"
        }
      ]
    },
    {
      "cell_type": "code",
      "metadata": {
        "colab": {
          "base_uri": "https://localhost:8080/"
        },
        "id": "XXfJH_A3KODT",
        "outputId": "eae9c8fa-0c62-4a6c-c147-e5cd5137bb3f"
      },
      "source": [
        "#columns = [f'pixel[{i},{j}]' for i in range(28) for j in range(28)]\n",
        "\n",
        "#tree_viz = dtreeviz(tree_clf, \n",
        "#               train_images_deskewed,\n",
        "#               train_labels,\n",
        "#               target_name='number',\n",
        "#               feature_names=columns, \n",
        "#               class_names=str(tree_clf.classes_),\n",
        "#               histtype='bar', orientation='TD',\n",
        "#               fontname= 'Arial',\n",
        "#               title= 'Decision Tree - MNIST')\n",
        "#tree_viz\n"
      ],
      "execution_count": 42,
      "outputs": [
        {
          "output_type": "stream",
          "text": [
            "time: 1.4 ms (started: 2021-04-09 15:48:09 +00:00)\n"
          ],
          "name": "stdout"
        }
      ]
    },
    {
      "cell_type": "markdown",
      "metadata": {
        "id": "ESCANl1Pt1r8"
      },
      "source": [
        "Once obtained our model, we can proceed with the testing phase. "
      ]
    },
    {
      "cell_type": "code",
      "metadata": {
        "colab": {
          "base_uri": "https://localhost:8080/"
        },
        "id": "4hSx3WM5gXz8",
        "outputId": "a1a9d5cc-419f-4f88-a56b-ba73746ffea7"
      },
      "source": [
        "#testing the model\n",
        "clf_predictons = tree_clf.predict(test_images)"
      ],
      "execution_count": 13,
      "outputs": [
        {
          "output_type": "stream",
          "text": [
            "time: 26.8 ms (started: 2021-04-09 15:08:23 +00:00)\n"
          ],
          "name": "stdout"
        }
      ]
    },
    {
      "cell_type": "markdown",
      "metadata": {
        "id": "ekmTaL1k-0Tk"
      },
      "source": [
        "The ***evaluation*** of the model is shown below:"
      ]
    },
    {
      "cell_type": "code",
      "metadata": {
        "colab": {
          "base_uri": "https://localhost:8080/"
        },
        "id": "1dibbFhNgcJ0",
        "outputId": "1ab5a455-54bc-4dbb-bd5f-7bf433d9aa26"
      },
      "source": [
        "from sklearn.metrics import confusion_matrix, accuracy_score\n",
        "\n",
        "cf_matrix = confusion_matrix(test_labels, clf_predictons)\n",
        "sns.heatmap(cf_matrix, annot=True, fmt=\"d\", cmap=\"rocket_r\")"
      ],
      "execution_count": 14,
      "outputs": [
        {
          "output_type": "execute_result",
          "data": {
            "text/plain": [
              "<matplotlib.axes._subplots.AxesSubplot at 0x7fadd0766110>"
            ]
          },
          "metadata": {
            "tags": []
          },
          "execution_count": 14
        },
        {
          "output_type": "display_data",
          "data": {
            "image/png": "[encoded data removed]",
            "text/plain": [
              "<Figure size 432x288 with 2 Axes>"
            ]
          },
          "metadata": {
            "tags": [],
            "needs_background": "light"
          }
        },
        {
          "output_type": "stream",
          "text": [
            "time: 842 ms (started: 2021-04-09 15:08:23 +00:00)\n"
          ],
          "name": "stdout"
        }
      ]
    },
    {
      "cell_type": "code",
      "metadata": {
        "colab": {
          "base_uri": "https://localhost:8080/"
        },
        "id": "Q0Jmv6h3gibd",
        "outputId": "25fe01fe-b291-4683-e91d-4f19090a314e"
      },
      "source": [
        "accuracy_tree= accuracy_score(test_labels, clf_predictons)\n",
        "print(\"Accuracy:\", accuracy_tree)"
      ],
      "execution_count": 15,
      "outputs": [
        {
          "output_type": "stream",
          "text": [
            "Accuracy: 0.8957\n",
            "time: 3.48 ms (started: 2021-04-09 15:08:23 +00:00)\n"
          ],
          "name": "stdout"
        }
      ]
    },
    {
      "cell_type": "markdown",
      "metadata": {
        "id": "imkiQMR4_Ez1"
      },
      "source": [
        "The confusion matrix shows that most of the test set is well classified.\n",
        "The model tends more to confuse and consequently to misclaffy the classes corresponding to the following digits:\n",
        "- 3 and 5 \n",
        "- 4 and 9\n",
        "\n",
        "These digits appear to be similar, so the error may be somehow \"justified\". It is indeed very rare that a digit like \"0\" is predicted as \"1\", since their representations are totally different. \n",
        "\n",
        "The accuracy reached with this method is equal to 89%, which is not a bad result but we will see now other approaches that will significantly increase the performance."
      ]
    },
    {
      "cell_type": "markdown",
      "metadata": {
        "id": "ERE3V7YMglfs"
      },
      "source": [
        "## Random Forest\n",
        "---"
      ]
    },
    {
      "cell_type": "markdown",
      "metadata": {
        "id": "FM2IjDvH_JoM"
      },
      "source": [
        "***Random forest*** is a learning method that consists of a large number of individual decision trees that operate as an ensemble. \n",
        "\n",
        "\n",
        " operates by constructing a multitude of decision trees at training time and outputting the class that is the mode of the classes (classification) or mean prediction (regression) of the individual trees."
      ]
    },
    {
      "cell_type": "code",
      "metadata": {
        "colab": {
          "base_uri": "https://localhost:8080/"
        },
        "id": "LJ7Plo4zgl4h",
        "outputId": "3588a764-bb20-4f6d-cf96-0b7b97952151"
      },
      "source": [
        "from sklearn.ensemble import RandomForestClassifier\n",
        "from sklearn.model_selection import cross_val_score\n",
        "from sklearn.metrics import classification_report\n",
        "from sklearn.metrics import classification_report, accuracy_score"
      ],
      "execution_count": 16,
      "outputs": [
        {
          "output_type": "stream",
          "text": [
            "time: 27.4 ms (started: 2021-04-09 15:08:23 +00:00)\n"
          ],
          "name": "stdout"
        }
      ]
    },
    {
      "cell_type": "markdown",
      "metadata": {
        "id": "BHz32qLwN7DJ"
      },
      "source": [
        "The *n_estimators* hyperparameter represents the number of trees the algorithm builds before taking the maximum voting or taking the averages of predictions. In general, a higher number of trees increases the performance and makes the predictions more stable, but it also slows down the computation.\n",
        "\n",
        "For this reason, we decided to see how the accuracy of the model may vary according to the number of the decision tree selected. "
      ]
    },
    {
      "cell_type": "code",
      "metadata": {
        "colab": {
          "base_uri": "https://localhost:8080/"
        },
        "id": "P-MT6pnagudx",
        "outputId": "6d95cccd-8b0b-44f7-a0ba-adf11f38578c"
      },
      "source": [
        "n_tree=[10,30,60,90,100]\n",
        "best_parameters={}\n",
        "\n",
        "for i in n_tree:\n",
        "  model = RandomForestClassifier(n_estimators=i)\n",
        "  model.fit(train_images,train_labels)\n",
        "  forest_predictions = model.predict(test_images)\n",
        "  c_report = classification_report(test_labels, forest_predictions)\n",
        "  accuracy = accuracy_score(test_labels,forest_predictions)\n",
        "  best_parameters[i]=accuracy\n",
        "  print(\"Classification Report with\", i, \"estimators\",'\\n',c_report, '\\n', \"Accuracy:\", accuracy)\n",
        "  \n"
      ],
      "execution_count": 18,
      "outputs": [
        {
          "output_type": "stream",
          "text": [
            "Classification Report with 10 estimators \n",
            "               precision    recall  f1-score   support\n",
            "\n",
            "           0       0.97      0.99      0.98       980\n",
            "           1       0.99      0.99      0.99      1135\n",
            "           2       0.96      0.97      0.96      1032\n",
            "           3       0.94      0.96      0.95      1010\n",
            "           4       0.95      0.97      0.96       982\n",
            "           5       0.95      0.95      0.95       892\n",
            "           6       0.97      0.97      0.97       958\n",
            "           7       0.98      0.96      0.97      1028\n",
            "           8       0.96      0.94      0.95       974\n",
            "           9       0.96      0.93      0.94      1009\n",
            "\n",
            "    accuracy                           0.96     10000\n",
            "   macro avg       0.96      0.96      0.96     10000\n",
            "weighted avg       0.96      0.96      0.96     10000\n",
            " \n",
            " Accuracy: 0.9632\n",
            "Classification Report with 30 estimators \n",
            "               precision    recall  f1-score   support\n",
            "\n",
            "           0       0.98      0.99      0.98       980\n",
            "           1       1.00      0.99      0.99      1135\n",
            "           2       0.97      0.98      0.97      1032\n",
            "           3       0.97      0.97      0.97      1010\n",
            "           4       0.96      0.97      0.97       982\n",
            "           5       0.97      0.97      0.97       892\n",
            "           6       0.97      0.98      0.98       958\n",
            "           7       0.98      0.97      0.98      1028\n",
            "           8       0.97      0.96      0.96       974\n",
            "           9       0.96      0.95      0.96      1009\n",
            "\n",
            "    accuracy                           0.97     10000\n",
            "   macro avg       0.97      0.97      0.97     10000\n",
            "weighted avg       0.97      0.97      0.97     10000\n",
            " \n",
            " Accuracy: 0.9734\n",
            "Classification Report with 60 estimators \n",
            "               precision    recall  f1-score   support\n",
            "\n",
            "           0       0.98      0.99      0.98       980\n",
            "           1       1.00      0.99      0.99      1135\n",
            "           2       0.97      0.97      0.97      1032\n",
            "           3       0.97      0.97      0.97      1010\n",
            "           4       0.97      0.98      0.97       982\n",
            "           5       0.97      0.98      0.98       892\n",
            "           6       0.98      0.98      0.98       958\n",
            "           7       0.98      0.98      0.98      1028\n",
            "           8       0.97      0.97      0.97       974\n",
            "           9       0.97      0.96      0.96      1009\n",
            "\n",
            "    accuracy                           0.98     10000\n",
            "   macro avg       0.98      0.98      0.98     10000\n",
            "weighted avg       0.98      0.98      0.98     10000\n",
            " \n",
            " Accuracy: 0.9766\n",
            "Classification Report with 90 estimators \n",
            "               precision    recall  f1-score   support\n",
            "\n",
            "           0       0.97      0.99      0.98       980\n",
            "           1       1.00      0.99      0.99      1135\n",
            "           2       0.98      0.98      0.98      1032\n",
            "           3       0.97      0.97      0.97      1010\n",
            "           4       0.98      0.98      0.98       982\n",
            "           5       0.98      0.98      0.98       892\n",
            "           6       0.98      0.98      0.98       958\n",
            "           7       0.98      0.98      0.98      1028\n",
            "           8       0.97      0.97      0.97       974\n",
            "           9       0.97      0.96      0.96      1009\n",
            "\n",
            "    accuracy                           0.98     10000\n",
            "   macro avg       0.98      0.98      0.98     10000\n",
            "weighted avg       0.98      0.98      0.98     10000\n",
            " \n",
            " Accuracy: 0.9776\n",
            "Classification Report with 100 estimators \n",
            "               precision    recall  f1-score   support\n",
            "\n",
            "           0       0.98      0.99      0.99       980\n",
            "           1       1.00      0.99      0.99      1135\n",
            "           2       0.98      0.98      0.98      1032\n",
            "           3       0.98      0.97      0.97      1010\n",
            "           4       0.98      0.98      0.98       982\n",
            "           5       0.98      0.98      0.98       892\n",
            "           6       0.98      0.99      0.98       958\n",
            "           7       0.98      0.97      0.98      1028\n",
            "           8       0.97      0.97      0.97       974\n",
            "           9       0.97      0.96      0.96      1009\n",
            "\n",
            "    accuracy                           0.98     10000\n",
            "   macro avg       0.98      0.98      0.98     10000\n",
            "weighted avg       0.98      0.98      0.98     10000\n",
            " \n",
            " Accuracy: 0.9787\n",
            "time: 2min 7s (started: 2021-04-09 15:19:00 +00:00)\n"
          ],
          "name": "stdout"
        }
      ]
    },
    {
      "cell_type": "code",
      "metadata": {
        "colab": {
          "base_uri": "https://localhost:8080/"
        },
        "id": "Oq1O8X_cfU4N",
        "outputId": "e2501679-38b5-403b-a7e7-14de2be27850"
      },
      "source": [
        "max_accuracy = max(best_parameters, key=best_parameters.get)\n",
        "print(\"Using\", max_accuracy,\"estimators, the accuracy of the prediction is the highest:\",best_parameters[max_accuracy])\n"
      ],
      "execution_count": 19,
      "outputs": [
        {
          "output_type": "stream",
          "text": [
            "Using 100 estimators, the accuracy of the prediction is the highest: 0.9787\n",
            "time: 2.24 ms (started: 2021-04-09 15:31:21 +00:00)\n"
          ],
          "name": "stdout"
        }
      ]
    },
    {
      "cell_type": "markdown",
      "metadata": {
        "id": "GgHFg09zz5j6"
      },
      "source": [
        "Now, we can focus on training and testing of our model with the best hyperparameter selected. "
      ]
    },
    {
      "cell_type": "code",
      "metadata": {
        "colab": {
          "base_uri": "https://localhost:8080/"
        },
        "id": "lUMz1q8_5de5",
        "outputId": "7a9bf743-1a33-4dfd-bcf5-d124a9054246"
      },
      "source": [
        "model = RandomForestClassifier(n_estimators=max_accuracy)\n",
        "model.fit(train_images,train_labels)"
      ],
      "execution_count": 21,
      "outputs": [
        {
          "output_type": "execute_result",
          "data": {
            "text/plain": [
              "RandomForestClassifier(bootstrap=True, ccp_alpha=0.0, class_weight=None,\n",
              "                       criterion='gini', max_depth=None, max_features='auto',\n",
              "                       max_leaf_nodes=None, max_samples=None,\n",
              "                       min_impurity_decrease=0.0, min_impurity_split=None,\n",
              "                       min_samples_leaf=1, min_samples_split=2,\n",
              "                       min_weight_fraction_leaf=0.0, n_estimators=100,\n",
              "                       n_jobs=None, oob_score=False, random_state=None,\n",
              "                       verbose=0, warm_start=False)"
            ]
          },
          "metadata": {
            "tags": []
          },
          "execution_count": 21
        },
        {
          "output_type": "stream",
          "text": [
            "time: 44.2 s (started: 2021-04-09 15:32:40 +00:00)\n"
          ],
          "name": "stdout"
        }
      ]
    },
    {
      "cell_type": "code",
      "metadata": {
        "colab": {
          "base_uri": "https://localhost:8080/"
        },
        "id": "6Qa0yfXQg7jY",
        "outputId": "fcc1ccab-1c8e-4f83-ed2d-4d9abd4602f6"
      },
      "source": [
        "forest_predictions = model.predict(test_images)"
      ],
      "execution_count": 22,
      "outputs": [
        {
          "output_type": "stream",
          "text": [
            "time: 325 ms (started: 2021-04-09 15:33:59 +00:00)\n"
          ],
          "name": "stdout"
        }
      ]
    },
    {
      "cell_type": "code",
      "metadata": {
        "colab": {
          "base_uri": "https://localhost:8080/"
        },
        "id": "8HIs8ywBhBbU",
        "outputId": "3e43469f-f897-4152-86fc-9dd6f4a9fcc1"
      },
      "source": [
        "c_report = classification_report(test_labels, forest_predictions)\n",
        "print(\"Classification Report\",'\\n',c_report)\n",
        "\n",
        "accuracy_RF = accuracy_score(test_labels,forest_predictions)\n",
        "print(\"Accuracy: \",accuracy_RF)"
      ],
      "execution_count": 23,
      "outputs": [
        {
          "output_type": "stream",
          "text": [
            "Classification Report \n",
            "               precision    recall  f1-score   support\n",
            "\n",
            "           0       0.98      0.99      0.98       980\n",
            "           1       1.00      0.99      0.99      1135\n",
            "           2       0.98      0.98      0.98      1032\n",
            "           3       0.98      0.98      0.98      1010\n",
            "           4       0.97      0.98      0.97       982\n",
            "           5       0.98      0.98      0.98       892\n",
            "           6       0.98      0.98      0.98       958\n",
            "           7       0.99      0.98      0.98      1028\n",
            "           8       0.97      0.97      0.97       974\n",
            "           9       0.97      0.96      0.96      1009\n",
            "\n",
            "    accuracy                           0.98     10000\n",
            "   macro avg       0.98      0.98      0.98     10000\n",
            "weighted avg       0.98      0.98      0.98     10000\n",
            "\n",
            "Accuracy:  0.9779\n",
            "time: 30.6 ms (started: 2021-04-09 15:33:59 +00:00)\n"
          ],
          "name": "stdout"
        }
      ]
    },
    {
      "cell_type": "code",
      "metadata": {
        "colab": {
          "base_uri": "https://localhost:8080/",
          "height": 300
        },
        "id": "EDRjT9hRhG5A",
        "outputId": "e584086b-8096-4ff7-a57e-9c0f457405ab"
      },
      "source": [
        "cf_matrix = confusion_matrix(test_labels, forest_predictions)\n",
        "sns.heatmap(cf_matrix, annot=True, fmt=\"d\", cmap=\"rocket_r\")"
      ],
      "execution_count": 24,
      "outputs": [
        {
          "output_type": "execute_result",
          "data": {
            "text/plain": [
              "<matplotlib.axes._subplots.AxesSubplot at 0x7fad99860e50>"
            ]
          },
          "metadata": {
            "tags": []
          },
          "execution_count": 24
        },
        {
          "output_type": "display_data",
          "data": {
            "image/png": "[encoded data removed]",
            "text/plain": [
              "<Figure size 432x288 with 2 Axes>"
            ]
          },
          "metadata": {
            "tags": [],
            "needs_background": "light"
          }
        },
        {
          "output_type": "stream",
          "text": [
            "time: 516 ms (started: 2021-04-09 15:33:59 +00:00)\n"
          ],
          "name": "stdout"
        }
      ]
    },
    {
      "cell_type": "markdown",
      "metadata": {
        "id": "VBU91ijx_PIw"
      },
      "source": [
        "It is evident that the Random Forest classifier performed better than the simpler Decision Tree. The accuracy increased up to 97%."
      ]
    },
    {
      "cell_type": "markdown",
      "metadata": {
        "id": "tzD02VdaTPTI"
      },
      "source": [
        "## CNN\n",
        "---"
      ]
    },
    {
      "cell_type": "markdown",
      "metadata": {
        "id": "Qc-xCcHTYZBx"
      },
      "source": [
        "***Convolutional neural networks*** (CNNs) are the current state-of-art architecture for image classification task. CNN takes the image's raw pixel data as input and \"learns\" how to extract these features, applying one or more filters and ultimately infer what object they constitute. CNN uses some layers to gather information and determine some features from the image."
      ]
    },
    {
      "cell_type": "markdown",
      "metadata": {
        "id": "lSQKp5bAKVlH"
      },
      "source": [
        "###Data preparation\n",
        "\n",
        "Reshape the data arrays in order to have a single color channel. "
      ]
    },
    {
      "cell_type": "code",
      "metadata": {
        "colab": {
          "base_uri": "https://localhost:8080/"
        },
        "id": "rltH6Uu-ThFL",
        "outputId": "e676c975-06a6-4f6e-f4a8-5d3ed048833c"
      },
      "source": [
        "train_images = train_images_deskewed.reshape(train_images_deskewed.shape[0], 28, 28, 1)\n",
        "test_images = test_images_deskewed.reshape(test_images_deskewed.shape[0], 28, 28, 1)\n",
        "input_shape = (28, 28, 1)"
      ],
      "execution_count": 25,
      "outputs": [
        {
          "output_type": "stream",
          "text": [
            "time: 1.54 ms (started: 2021-04-09 15:34:00 +00:00)\n"
          ],
          "name": "stdout"
        }
      ]
    },
    {
      "cell_type": "markdown",
      "metadata": {
        "id": "PftGosPEKzfg"
      },
      "source": [
        "Pixel intensity values for each image in the dataset are integers in the range between balck and white (0 to 255). We can now normalize the pixel values of greyscale images converting them from unsigned integers to floats and then rescaling them to the range [0,1]. "
      ]
    },
    {
      "cell_type": "code",
      "metadata": {
        "colab": {
          "base_uri": "https://localhost:8080/"
        },
        "id": "BaunzMBiTuaj",
        "outputId": "7276f965-43ee-4afa-f4f8-bfa641aca838"
      },
      "source": [
        "train_images = train_images.astype('float32')\n",
        "test_images = test_images.astype('float32')\n",
        "\n",
        "train_images = train_images / 255.0\n",
        "test_images = test_images / 255.0"
      ],
      "execution_count": 26,
      "outputs": [
        {
          "output_type": "stream",
          "text": [
            "time: 84.1 ms (started: 2021-04-09 15:34:00 +00:00)\n"
          ],
          "name": "stdout"
        }
      ]
    },
    {
      "cell_type": "markdown",
      "metadata": {
        "id": "IqylhhSUL-A8"
      },
      "source": [
        "Given the 10 classes (labels) which are represented as unique integers, it is possible to use a one hot encoding for the class element of each sample, transforming the integer into a 10 element binary vector with:\n",
        "- 1 for the index of the class value \n",
        "- 0 values for all other classes. \n",
        "\n",
        "We can do this with *to_categorical()* utility function."
      ]
    },
    {
      "cell_type": "code",
      "metadata": {
        "colab": {
          "base_uri": "https://localhost:8080/"
        },
        "id": "O6A7Yy8sT7Su",
        "outputId": "1467d4c6-4b03-417c-b7b6-1446e2b509e4"
      },
      "source": [
        "from keras.utils.np_utils import to_categorical\n",
        "\n",
        "nclasses = 10\n",
        "train_labels = to_categorical(train_labels, num_classes = nclasses )\n",
        "test_labels = to_categorical(test_labels, num_classes = nclasses )\n",
        "print(\"Shape of train_labels: \", train_labels.shape) \n",
        "print(\"Shape of test_labels: \", test_labels.shape)"
      ],
      "execution_count": 27,
      "outputs": [
        {
          "output_type": "stream",
          "text": [
            "Shape of train_labels:  (60000, 10)\n",
            "Shape of test_labels:  (10000, 10)\n",
            "time: 38.9 ms (started: 2021-04-09 15:34:00 +00:00)\n"
          ],
          "name": "stdout"
        }
      ]
    },
    {
      "cell_type": "markdown",
      "metadata": {
        "id": "dpnPhiADUa59"
      },
      "source": [
        "### Building the model\n"
      ]
    },
    {
      "cell_type": "code",
      "metadata": {
        "colab": {
          "base_uri": "https://localhost:8080/"
        },
        "id": "1O_yWd0cUdWy",
        "outputId": "834b2a69-61e0-4e25-a90d-4cedf998c470"
      },
      "source": [
        "#import modules\n",
        "from keras.models import Sequential\n",
        "from keras.layers import Dense, Dropout, Flatten\n",
        "from keras.layers import Conv2D, MaxPool2D\n",
        "from keras.optimizers import Adam"
      ],
      "execution_count": 28,
      "outputs": [
        {
          "output_type": "stream",
          "text": [
            "time: 2.9 ms (started: 2021-04-09 15:34:00 +00:00)\n"
          ],
          "name": "stdout"
        }
      ]
    },
    {
      "cell_type": "markdown",
      "metadata": {
        "id": "3sTlBD5SNdif"
      },
      "source": [
        "The model has two main aspects: the ***feature extraction front-end*** comprised of convolutional and pooling layers, and the ***classifier back-end*** that will make a prediction.\n",
        "\n",
        "The architecture followed here is a **2D convolutional layer** with a small filter size (3,3) and a modest number of filters (32) followed by a **maxpooling layer**. The filter maps can then be flattened to provide features to the classifier.\n",
        "\n",
        "Given that the problem is a multi-class classification task, we will require an output layer with 10 nodes in order to predict the probability distribution of an image belonging to each of the 10 classes. This will also require the use of a ***softmax activation function***. Between the feature extractor and the output layer, we add a **dense layer** to interpret the features, in this case with 100 nodes.\n",
        "\n",
        "All layers will use the ***ReLU activation function*** and the ***He weight*** initialization scheme."
      ]
    },
    {
      "cell_type": "code",
      "metadata": {
        "colab": {
          "base_uri": "https://localhost:8080/"
        },
        "id": "AS8NjZl-Ukr6",
        "outputId": "327f1ada-8ce6-487b-af6d-59ed11fd082d"
      },
      "source": [
        "#create model\n",
        "model = Sequential()\n",
        "#add model layers\n",
        "model.add(Conv2D(32, kernel_size=(3, 3), activation='relu', kernel_initializer='he_uniform', input_shape=(28, 28, 1)))\n",
        "model.add(MaxPool2D(pool_size=(2, 2)))\n",
        "model.add(Flatten())\n",
        "model.add(Dense(100, activation='relu', kernel_initializer='he_uniform'))\n",
        "model.add(Dense(nclasses, activation='softmax'))\n",
        "\n",
        "model.summary()"
      ],
      "execution_count": 29,
      "outputs": [
        {
          "output_type": "stream",
          "text": [
            "Model: \"sequential\"\n",
            "_________________________________________________________________\n",
            "Layer (type)                 Output Shape              Param #   \n",
            "=================================================================\n",
            "conv2d (Conv2D)              (None, 26, 26, 32)        320       \n",
            "_________________________________________________________________\n",
            "max_pooling2d (MaxPooling2D) (None, 13, 13, 32)        0         \n",
            "_________________________________________________________________\n",
            "flatten (Flatten)            (None, 5408)              0         \n",
            "_________________________________________________________________\n",
            "dense (Dense)                (None, 100)               540900    \n",
            "_________________________________________________________________\n",
            "dense_1 (Dense)              (None, 10)                1010      \n",
            "=================================================================\n",
            "Total params: 542,230\n",
            "Trainable params: 542,230\n",
            "Non-trainable params: 0\n",
            "_________________________________________________________________\n",
            "time: 5.32 s (started: 2021-04-09 15:34:00 +00:00)\n"
          ],
          "name": "stdout"
        }
      ]
    },
    {
      "cell_type": "markdown",
      "metadata": {
        "id": "tYjwocpGJ_Hc"
      },
      "source": [
        "Compiling the model takes 3 hyperparameters: ***optimizer***, ***loss*** and ***performance metrics***.\n",
        "\n",
        "- The optimizer controls the learning rate. We will be using ***adam** that adjusts the learning rate throughout training.\n",
        "\n",
        "- We will use ***categorical_crossentropy*** as the loss function.\n",
        "\n",
        "- We will use the ***accuracy*** performance metric to see the accuracy score on the validation set when we train the model."
      ]
    },
    {
      "cell_type": "code",
      "metadata": {
        "colab": {
          "base_uri": "https://localhost:8080/"
        },
        "id": "U6i6sDjgUqQG",
        "outputId": "d065df33-6148-44dd-d5a7-764631a2a0fc"
      },
      "source": [
        "#compile model\n",
        "model.compile(optimizer=\"adam\", loss=\"categorical_crossentropy\", metrics=[\"accuracy\"])"
      ],
      "execution_count": 30,
      "outputs": [
        {
          "output_type": "stream",
          "text": [
            "time: 10.8 ms (started: 2021-04-09 15:34:05 +00:00)\n"
          ],
          "name": "stdout"
        }
      ]
    },
    {
      "cell_type": "markdown",
      "metadata": {
        "id": "fjckhATMPKxe"
      },
      "source": [
        "After the model architecture is defined and compiled, the model needs to be trained with training data to be able to recognize the handwritten digits. Hence, we will fit the model with *train_images* and *train_labels*."
      ]
    },
    {
      "cell_type": "code",
      "metadata": {
        "colab": {
          "base_uri": "https://localhost:8080/"
        },
        "id": "TqlomX2ZUw18",
        "outputId": "7ff42f2d-4379-4861-f9f7-c417cbf4c4ca"
      },
      "source": [
        "epochs = 25\n",
        "batch_size = 256\n",
        "#model training\n",
        "history = model.fit(x=train_images, \n",
        "                    y=train_labels, \n",
        "                    batch_size=batch_size, \n",
        "                    epochs=epochs,\n",
        "                    validation_split=0.1)"
      ],
      "execution_count": 31,
      "outputs": [
        {
          "output_type": "stream",
          "text": [
            "Epoch 1/25\n",
            "211/211 [==============================] - 34s 7ms/step - loss: 0.4029 - accuracy: 0.8743 - val_loss: 0.0666 - val_accuracy: 0.9833\n",
            "Epoch 2/25\n",
            "211/211 [==============================] - 1s 5ms/step - loss: 0.0664 - accuracy: 0.9797 - val_loss: 0.0480 - val_accuracy: 0.9865\n",
            "Epoch 3/25\n",
            "211/211 [==============================] - 1s 5ms/step - loss: 0.0375 - accuracy: 0.9895 - val_loss: 0.0421 - val_accuracy: 0.9878\n",
            "Epoch 4/25\n",
            "211/211 [==============================] - 1s 5ms/step - loss: 0.0256 - accuracy: 0.9923 - val_loss: 0.0382 - val_accuracy: 0.9900\n",
            "Epoch 5/25\n",
            "211/211 [==============================] - 1s 5ms/step - loss: 0.0192 - accuracy: 0.9944 - val_loss: 0.0380 - val_accuracy: 0.9887\n",
            "Epoch 6/25\n",
            "211/211 [==============================] - 1s 5ms/step - loss: 0.0172 - accuracy: 0.9952 - val_loss: 0.0371 - val_accuracy: 0.9900\n",
            "Epoch 7/25\n",
            "211/211 [==============================] - 1s 6ms/step - loss: 0.0116 - accuracy: 0.9969 - val_loss: 0.0341 - val_accuracy: 0.9907\n",
            "Epoch 8/25\n",
            "211/211 [==============================] - 1s 5ms/step - loss: 0.0075 - accuracy: 0.9983 - val_loss: 0.0427 - val_accuracy: 0.9900\n",
            "Epoch 9/25\n",
            "211/211 [==============================] - 1s 5ms/step - loss: 0.0080 - accuracy: 0.9978 - val_loss: 0.0374 - val_accuracy: 0.9912\n",
            "Epoch 10/25\n",
            "211/211 [==============================] - 1s 5ms/step - loss: 0.0056 - accuracy: 0.9988 - val_loss: 0.0376 - val_accuracy: 0.9897\n",
            "Epoch 11/25\n",
            "211/211 [==============================] - 1s 5ms/step - loss: 0.0049 - accuracy: 0.9989 - val_loss: 0.0407 - val_accuracy: 0.9902\n",
            "Epoch 12/25\n",
            "211/211 [==============================] - 1s 5ms/step - loss: 0.0051 - accuracy: 0.9988 - val_loss: 0.0348 - val_accuracy: 0.9912\n",
            "Epoch 13/25\n",
            "211/211 [==============================] - 1s 5ms/step - loss: 0.0027 - accuracy: 0.9997 - val_loss: 0.0444 - val_accuracy: 0.9902\n",
            "Epoch 14/25\n",
            "211/211 [==============================] - 1s 5ms/step - loss: 0.0030 - accuracy: 0.9992 - val_loss: 0.0380 - val_accuracy: 0.9912\n",
            "Epoch 15/25\n",
            "211/211 [==============================] - 1s 5ms/step - loss: 0.0023 - accuracy: 0.9995 - val_loss: 0.0422 - val_accuracy: 0.9907\n",
            "Epoch 16/25\n",
            "211/211 [==============================] - 1s 5ms/step - loss: 0.0026 - accuracy: 0.9996 - val_loss: 0.0460 - val_accuracy: 0.9918\n",
            "Epoch 17/25\n",
            "211/211 [==============================] - 1s 5ms/step - loss: 0.0013 - accuracy: 0.9998 - val_loss: 0.0433 - val_accuracy: 0.9915\n",
            "Epoch 18/25\n",
            "211/211 [==============================] - 1s 5ms/step - loss: 0.0017 - accuracy: 0.9997 - val_loss: 0.0481 - val_accuracy: 0.9898\n",
            "Epoch 19/25\n",
            "211/211 [==============================] - 1s 5ms/step - loss: 0.0082 - accuracy: 0.9969 - val_loss: 0.0473 - val_accuracy: 0.9883\n",
            "Epoch 20/25\n",
            "211/211 [==============================] - 1s 5ms/step - loss: 0.0045 - accuracy: 0.9986 - val_loss: 0.0504 - val_accuracy: 0.9892\n",
            "Epoch 21/25\n",
            "211/211 [==============================] - 1s 5ms/step - loss: 0.0034 - accuracy: 0.9988 - val_loss: 0.0448 - val_accuracy: 0.9918\n",
            "Epoch 22/25\n",
            "211/211 [==============================] - 1s 5ms/step - loss: 8.7366e-04 - accuracy: 0.9999 - val_loss: 0.0489 - val_accuracy: 0.9912\n",
            "Epoch 23/25\n",
            "211/211 [==============================] - 1s 5ms/step - loss: 3.9086e-04 - accuracy: 1.0000 - val_loss: 0.0477 - val_accuracy: 0.9917\n",
            "Epoch 24/25\n",
            "211/211 [==============================] - 1s 5ms/step - loss: 2.5266e-04 - accuracy: 1.0000 - val_loss: 0.0474 - val_accuracy: 0.9913\n",
            "Epoch 25/25\n",
            "211/211 [==============================] - 1s 5ms/step - loss: 2.3993e-04 - accuracy: 1.0000 - val_loss: 0.0482 - val_accuracy: 0.9915\n",
            "time: 1min 1s (started: 2021-04-09 15:34:05 +00:00)\n"
          ],
          "name": "stdout"
        }
      ]
    },
    {
      "cell_type": "markdown",
      "metadata": {
        "id": "DW8wkwxbPjwB"
      },
      "source": [
        "The number of ***epochs*** is a hyperparameter that defines the number times that the learning algorithm will work through the entire training dataset. \n",
        "One epoch means that each sample in the training set has had an opportunity to update the internal model parameters. An epoch is comprised of one or more batches.\n",
        "\n",
        "The ***batch size*** is another hyperparameter that defines the number of samples to work through before updating the internal model parameters.\n"
      ]
    },
    {
      "cell_type": "markdown",
      "metadata": {
        "id": "QLUTPoo-PwgY"
      },
      "source": [
        "Now, the trained model needs to be evaluated in terms of performance."
      ]
    },
    {
      "cell_type": "code",
      "metadata": {
        "colab": {
          "base_uri": "https://localhost:8080/"
        },
        "id": "IOv6KOzcpSQ7",
        "outputId": "0c626967-d011-4065-9bef-721e3b67e595"
      },
      "source": [
        "score = model.evaluate(test_images,test_labels)\n",
        "print(\"Test loss:\", score[0])\n",
        "accuracy_cnn= score[1]\n",
        "print(\"Test accuracy:\", accuracy_cnn)"
      ],
      "execution_count": 32,
      "outputs": [
        {
          "output_type": "stream",
          "text": [
            "313/313 [==============================] - 1s 2ms/step - loss: 0.0398 - accuracy: 0.9901\n",
            "Test loss: 0.03983662277460098\n",
            "Test accuracy: 0.9901000261306763\n",
            "time: 722 ms (started: 2021-04-09 15:35:06 +00:00)\n"
          ],
          "name": "stdout"
        }
      ]
    },
    {
      "cell_type": "markdown",
      "metadata": {
        "id": "XDybviByB2di"
      },
      "source": [
        "It is possible to visualize the whole training log and capture information about loss and accuracy of the model on training and testing data."
      ]
    },
    {
      "cell_type": "code",
      "metadata": {
        "colab": {
          "base_uri": "https://localhost:8080/",
          "height": 315
        },
        "id": "OGMftzXDWqow",
        "outputId": "a5b6aba5-b825-40f0-bf20-80f191ccf045"
      },
      "source": [
        "fig = plt.figure() \n",
        "plt.subplot(2,1,1)\n",
        "plt.plot(history.history['accuracy'])\n",
        "plt.plot(history.history['val_accuracy'])\n",
        "plt.title('model accuracy')\n",
        "plt.ylabel('accuracy')\n",
        "plt.xlabel('epoch')\n",
        "plt.legend(['train','test'],loc='lower right')\n",
        "\n",
        "plt.subplot(2,1,2)\n",
        "plt.plot(history.history['loss'])\n",
        "plt.plot(history.history['val_loss'])\n",
        "plt.title('model loss')\n",
        "plt.ylabel('loss')\n",
        "plt.xlabel('epoch')\n",
        "plt.legend(['train','test'], loc='upper right')\n",
        "\n",
        "plt.tight_layout()\n"
      ],
      "execution_count": 33,
      "outputs": [
        {
          "output_type": "display_data",
          "data": {
            "image/png": "[encoded data removed]",
            "text/plain": [
              "<Figure size 432x288 with 2 Axes>"
            ]
          },
          "metadata": {
            "tags": [],
            "needs_background": "light"
          }
        },
        {
          "output_type": "stream",
          "text": [
            "time: 336 ms (started: 2021-04-09 15:35:07 +00:00)\n"
          ],
          "name": "stdout"
        }
      ]
    },
    {
      "cell_type": "markdown",
      "metadata": {
        "id": "oDf0XDSxe2bA"
      },
      "source": [
        "Given this learning curve, it is possible to notice that the loss on the training set is decreasing rapidly for the first few epochs. This means that the model is learning to classify the digits fast. However, for the test set the loss does not decrease as fast, but stays roughly within the same range as the training loss. \n",
        "\n",
        "Our model seems to generalized pretty well to unseen data, but in the next and last step of this project we will  implement an improved model. "
      ]
    },
    {
      "cell_type": "markdown",
      "metadata": {
        "id": "-SUUQzmuW0ab"
      },
      "source": [
        "### Improved model"
      ]
    },
    {
      "cell_type": "markdown",
      "metadata": {
        "id": "U494v40_dSyC"
      },
      "source": [
        "There are many ways to change the model configuration in order to explore improvements over the baseline model.\n",
        "\n",
        "It is possible to ***increase the depth*** of the feature extractor part of the model, adding more convolutional and pooling layers with the same sized filter, while increasing the number of filters. In this case, we will add another 2D convolutional layer with 64 filters each, followed by another max pooling layer.\n",
        "\n",
        "Moreover, after both maxpooling and fully connected layer, ***dropout*** is introduced as regularization in our model to reduce overfitting problems."
      ]
    },
    {
      "cell_type": "code",
      "metadata": {
        "colab": {
          "base_uri": "https://localhost:8080/"
        },
        "id": "uZ0bUaK3W2Ji",
        "outputId": "be58d493-ac7f-4d89-8e58-f954a7e83edb"
      },
      "source": [
        "#create model\n",
        "model = Sequential()\n",
        "#add model layers\n",
        "model.add(Conv2D(filters=64, kernel_size=2, padding='same', activation='relu', input_shape=(28,28,1))) \n",
        "model.add(MaxPool2D(pool_size=2))\n",
        "model.add(Dropout(0.3))\n",
        "model.add(Conv2D(filters=32, kernel_size=2, padding='same', activation='relu'))\n",
        "model.add(MaxPool2D(pool_size=2))\n",
        "model.add(Dropout(0.3))\n",
        "model.add(Flatten())\n",
        "model.add(Dense(256, activation='relu'))\n",
        "model.add(Dropout(0.5))\n",
        "model.add(Dense(nclasses, activation='softmax'))\n",
        "\n",
        "model.summary()"
      ],
      "execution_count": 34,
      "outputs": [
        {
          "output_type": "stream",
          "text": [
            "Model: \"sequential_1\"\n",
            "_________________________________________________________________\n",
            "Layer (type)                 Output Shape              Param #   \n",
            "=================================================================\n",
            "conv2d_1 (Conv2D)            (None, 28, 28, 64)        320       \n",
            "_________________________________________________________________\n",
            "max_pooling2d_1 (MaxPooling2 (None, 14, 14, 64)        0         \n",
            "_________________________________________________________________\n",
            "dropout (Dropout)            (None, 14, 14, 64)        0         \n",
            "_________________________________________________________________\n",
            "conv2d_2 (Conv2D)            (None, 14, 14, 32)        8224      \n",
            "_________________________________________________________________\n",
            "max_pooling2d_2 (MaxPooling2 (None, 7, 7, 32)          0         \n",
            "_________________________________________________________________\n",
            "dropout_1 (Dropout)          (None, 7, 7, 32)          0         \n",
            "_________________________________________________________________\n",
            "flatten_1 (Flatten)          (None, 1568)              0         \n",
            "_________________________________________________________________\n",
            "dense_2 (Dense)              (None, 256)               401664    \n",
            "_________________________________________________________________\n",
            "dropout_2 (Dropout)          (None, 256)               0         \n",
            "_________________________________________________________________\n",
            "dense_3 (Dense)              (None, 10)                2570      \n",
            "=================================================================\n",
            "Total params: 412,778\n",
            "Trainable params: 412,778\n",
            "Non-trainable params: 0\n",
            "_________________________________________________________________\n",
            "time: 69.9 ms (started: 2021-04-09 15:35:07 +00:00)\n"
          ],
          "name": "stdout"
        }
      ]
    },
    {
      "cell_type": "code",
      "metadata": {
        "colab": {
          "base_uri": "https://localhost:8080/"
        },
        "id": "3xL3SwwLW9n6",
        "outputId": "11000ef5-3940-4770-f91e-9d3dab4720d8"
      },
      "source": [
        "#compile the model\n",
        "model.compile(optimizer=\"adam\", loss=\"categorical_crossentropy\", metrics=[\"accuracy\"])"
      ],
      "execution_count": 35,
      "outputs": [
        {
          "output_type": "stream",
          "text": [
            "time: 7.76 ms (started: 2021-04-09 15:35:08 +00:00)\n"
          ],
          "name": "stdout"
        }
      ]
    },
    {
      "cell_type": "code",
      "metadata": {
        "colab": {
          "base_uri": "https://localhost:8080/"
        },
        "id": "TbNke9A5XBVy",
        "outputId": "1e782e9e-a9a9-48cb-f84c-a04e43f69066"
      },
      "source": [
        "epochs = 25\n",
        "batch_size = 256\n",
        "#train the model\n",
        "history = model.fit(x=train_images, \n",
        "                    y=train_labels, \n",
        "                    batch_size=batch_size, \n",
        "                    epochs=epochs,\n",
        "                    validation_split=0.1)"
      ],
      "execution_count": 36,
      "outputs": [
        {
          "output_type": "stream",
          "text": [
            "Epoch 1/25\n",
            "211/211 [==============================] - 3s 12ms/step - loss: 0.8161 - accuracy: 0.7440 - val_loss: 0.1013 - val_accuracy: 0.9715\n",
            "Epoch 2/25\n",
            "211/211 [==============================] - 2s 10ms/step - loss: 0.1711 - accuracy: 0.9463 - val_loss: 0.0601 - val_accuracy: 0.9828\n",
            "Epoch 3/25\n",
            "211/211 [==============================] - 2s 11ms/step - loss: 0.1151 - accuracy: 0.9646 - val_loss: 0.0475 - val_accuracy: 0.9862\n",
            "Epoch 4/25\n",
            "211/211 [==============================] - 2s 11ms/step - loss: 0.0933 - accuracy: 0.9705 - val_loss: 0.0425 - val_accuracy: 0.9885\n",
            "Epoch 5/25\n",
            "211/211 [==============================] - 2s 11ms/step - loss: 0.0795 - accuracy: 0.9743 - val_loss: 0.0325 - val_accuracy: 0.9910\n",
            "Epoch 6/25\n",
            "211/211 [==============================] - 2s 11ms/step - loss: 0.0672 - accuracy: 0.9791 - val_loss: 0.0298 - val_accuracy: 0.9925\n",
            "Epoch 7/25\n",
            "211/211 [==============================] - 2s 11ms/step - loss: 0.0602 - accuracy: 0.9813 - val_loss: 0.0287 - val_accuracy: 0.9917\n",
            "Epoch 8/25\n",
            "211/211 [==============================] - 2s 11ms/step - loss: 0.0589 - accuracy: 0.9819 - val_loss: 0.0286 - val_accuracy: 0.9927\n",
            "Epoch 9/25\n",
            "211/211 [==============================] - 2s 11ms/step - loss: 0.0519 - accuracy: 0.9840 - val_loss: 0.0272 - val_accuracy: 0.9922\n",
            "Epoch 10/25\n",
            "211/211 [==============================] - 2s 10ms/step - loss: 0.0503 - accuracy: 0.9837 - val_loss: 0.0280 - val_accuracy: 0.9925\n",
            "Epoch 11/25\n",
            "211/211 [==============================] - 2s 11ms/step - loss: 0.0465 - accuracy: 0.9848 - val_loss: 0.0246 - val_accuracy: 0.9925\n",
            "Epoch 12/25\n",
            "211/211 [==============================] - 2s 11ms/step - loss: 0.0442 - accuracy: 0.9863 - val_loss: 0.0232 - val_accuracy: 0.9940\n",
            "Epoch 13/25\n",
            "211/211 [==============================] - 2s 10ms/step - loss: 0.0406 - accuracy: 0.9874 - val_loss: 0.0247 - val_accuracy: 0.9933\n",
            "Epoch 14/25\n",
            "211/211 [==============================] - 2s 11ms/step - loss: 0.0392 - accuracy: 0.9875 - val_loss: 0.0229 - val_accuracy: 0.9935\n",
            "Epoch 15/25\n",
            "211/211 [==============================] - 2s 10ms/step - loss: 0.0372 - accuracy: 0.9879 - val_loss: 0.0252 - val_accuracy: 0.9927\n",
            "Epoch 16/25\n",
            "211/211 [==============================] - 2s 10ms/step - loss: 0.0351 - accuracy: 0.9878 - val_loss: 0.0213 - val_accuracy: 0.9945\n",
            "Epoch 17/25\n",
            "211/211 [==============================] - 2s 10ms/step - loss: 0.0333 - accuracy: 0.9889 - val_loss: 0.0233 - val_accuracy: 0.9933\n",
            "Epoch 18/25\n",
            "211/211 [==============================] - 2s 11ms/step - loss: 0.0315 - accuracy: 0.9898 - val_loss: 0.0228 - val_accuracy: 0.9942\n",
            "Epoch 19/25\n",
            "211/211 [==============================] - 2s 11ms/step - loss: 0.0323 - accuracy: 0.9897 - val_loss: 0.0217 - val_accuracy: 0.9945\n",
            "Epoch 20/25\n",
            "211/211 [==============================] - 2s 11ms/step - loss: 0.0303 - accuracy: 0.9902 - val_loss: 0.0209 - val_accuracy: 0.9945\n",
            "Epoch 21/25\n",
            "211/211 [==============================] - 2s 11ms/step - loss: 0.0282 - accuracy: 0.9907 - val_loss: 0.0208 - val_accuracy: 0.9945\n",
            "Epoch 22/25\n",
            "211/211 [==============================] - 2s 11ms/step - loss: 0.0287 - accuracy: 0.9908 - val_loss: 0.0212 - val_accuracy: 0.9942\n",
            "Epoch 23/25\n",
            "211/211 [==============================] - 2s 10ms/step - loss: 0.0291 - accuracy: 0.9905 - val_loss: 0.0193 - val_accuracy: 0.9953\n",
            "Epoch 24/25\n",
            "211/211 [==============================] - 2s 11ms/step - loss: 0.0255 - accuracy: 0.9918 - val_loss: 0.0203 - val_accuracy: 0.9943\n",
            "Epoch 25/25\n",
            "211/211 [==============================] - 2s 10ms/step - loss: 0.0255 - accuracy: 0.9916 - val_loss: 0.0213 - val_accuracy: 0.9947\n",
            "time: 56.6 s (started: 2021-04-09 15:35:08 +00:00)\n"
          ],
          "name": "stdout"
        }
      ]
    },
    {
      "cell_type": "code",
      "metadata": {
        "colab": {
          "base_uri": "https://localhost:8080/"
        },
        "id": "CiYwVyf9XO5T",
        "outputId": "11273c3b-be07-4cbb-9c93-87c3e7227e16"
      },
      "source": [
        "score = model.evaluate(test_images,test_labels)\n",
        "print(\"Test loss:\", score[0])\n",
        "accuracy_impr_cnn= score[1]\n",
        "print(\"Test accuracy:\", accuracy_impr_cnn)"
      ],
      "execution_count": 37,
      "outputs": [
        {
          "output_type": "stream",
          "text": [
            "313/313 [==============================] - 1s 2ms/step - loss: 0.0197 - accuracy: 0.9939\n",
            "Test loss: 0.019747361540794373\n",
            "Test accuracy: 0.9939000010490417\n",
            "time: 791 ms (started: 2021-04-09 15:36:04 +00:00)\n"
          ],
          "name": "stdout"
        }
      ]
    },
    {
      "cell_type": "code",
      "metadata": {
        "colab": {
          "base_uri": "https://localhost:8080/",
          "height": 315
        },
        "id": "bXQfE-PTXLdA",
        "outputId": "8a3435ad-e5b7-4e3e-8700-96ce359693ea"
      },
      "source": [
        "fig = plt.figure()\n",
        "plt.subplot(2,1,1)\n",
        "plt.plot(history.history['accuracy'])\n",
        "plt.plot(history.history['val_accuracy'])\n",
        "plt.title('model accuracy')\n",
        "plt.ylabel('accuracy')\n",
        "plt.xlabel('epoch')\n",
        "plt.legend(['train','test'],loc='lower right')\n",
        "\n",
        "plt.subplot(2,1,2)\n",
        "plt.plot(history.history['loss'])\n",
        "plt.plot(history.history['val_loss'])\n",
        "plt.title('model loss')\n",
        "plt.ylabel('loss')\n",
        "plt.xlabel('epoch')\n",
        "plt.legend(['train','test'],loc='upper right')\n",
        "\n",
        "plt.tight_layout()"
      ],
      "execution_count": 38,
      "outputs": [
        {
          "output_type": "display_data",
          "data": {
            "image/png": "[encoded data removed]",
            "text/plain": [
              "<Figure size 432x288 with 2 Axes>"
            ]
          },
          "metadata": {
            "tags": [],
            "needs_background": "light"
          }
        },
        {
          "output_type": "stream",
          "text": [
            "time: 339 ms (started: 2021-04-09 15:36:05 +00:00)\n"
          ],
          "name": "stdout"
        }
      ]
    },
    {
      "cell_type": "markdown",
      "metadata": {
        "id": "RjcUZzIBd698"
      },
      "source": [
        "If we visualize the whole training log, then with more number of epochs the loss and accuracy of the model on training and testing data converged thus making the model a stable one.\n",
        "\n",
        "So, the improved model does not suffer from overfitting. The accuracy reached more than 99%. "
      ]
    },
    {
      "cell_type": "markdown",
      "metadata": {
        "id": "6a6AFB9zigiN"
      },
      "source": [
        "***Inspecting the prediction output***\n",
        "\n",
        "It is possible to analize which images are correctly predicted and which not. "
      ]
    },
    {
      "cell_type": "code",
      "metadata": {
        "colab": {
          "base_uri": "https://localhost:8080/",
          "height": 917
        },
        "id": "mbFGGRyP4U-R",
        "outputId": "9fff1d43-8530-4b01-cd09-0b305b123062"
      },
      "source": [
        "predicted_classes = model.predict_classes(test_images)\n",
        "correct_indices   = np.nonzero(predicted_classes == test_labels.argmax(axis=-1))[0]\n",
        "incorrect_indices = np.nonzero(predicted_classes != test_labels.argmax(axis=-1))[0]\n",
        "\n",
        "plt.figure(1, figsize=(7,7))\n",
        "#plot 9 correct predictions\n",
        "for i, correct in enumerate(correct_indices[:9]):\n",
        "    plt.subplot(3,3,i+1)\n",
        "    plt.imshow(test_images[correct].reshape(28,28), cmap='gray', interpolation='none')\n",
        "    plt.title(\"Predicted {}, Class {}\".format(predicted_classes[correct], test_labels[correct].argmax(axis=-1)))\n",
        "    plt.xticks([])\n",
        "    plt.yticks([])\n",
        "    \n",
        "plt.figure(2, figsize=(7,7))\n",
        "#plot 9 incorrect predictions\n",
        "for i, incorrect in enumerate(incorrect_indices[:9]):\n",
        "    plt.subplot(3,3,i+1)\n",
        "    plt.imshow(test_images[incorrect].reshape(28,28), cmap='gray', interpolation='none')\n",
        "    plt.title(\"Predicted {}, Class {}\".format(predicted_classes[incorrect], test_labels[incorrect].argmax(axis=-1)))\n",
        "    plt.xticks([])\n",
        "    plt.yticks([])"
      ],
      "execution_count": 39,
      "outputs": [
        {
          "output_type": "stream",
          "text": [
            "/usr/local/lib/python3.7/dist-packages/tensorflow/python/keras/engine/sequential.py:450: UserWarning: `model.predict_classes()` is deprecated and will be removed after 2021-01-01. Please use instead:* `np.argmax(model.predict(x), axis=-1)`,   if your model does multi-class classification   (e.g. if it uses a `softmax` last-layer activation).* `(model.predict(x) > 0.5).astype(\"int32\")`,   if your model does binary classification   (e.g. if it uses a `sigmoid` last-layer activation).\n",
            "  warnings.warn('`model.predict_classes()` is deprecated and '\n"
          ],
          "name": "stderr"
        },
        {
          "output_type": "display_data",
          "data": {
            "image/png": "[encoded data removed]",
            "text/plain": [
              "<Figure size 504x504 with 9 Axes>"
            ]
          },
          "metadata": {
            "tags": []
          }
        },
        {
          "output_type": "display_data",
          "data": {
            "image/png": "[encoded data removed]",
            "text/plain": [
              "<Figure size 504x504 with 9 Axes>"
            ]
          },
          "metadata": {
            "tags": []
          }
        },
        {
          "output_type": "stream",
          "text": [
            "time: 1.03 s (started: 2021-04-09 15:36:05 +00:00)\n"
          ],
          "name": "stdout"
        }
      ]
    },
    {
      "cell_type": "markdown",
      "metadata": {
        "id": "CKZaUluG4Hl7"
      },
      "source": [
        "As we can see, the wrong predictions are quite forgiveable since they are in some cases even hard to recognize for the human reader. "
      ]
    },
    {
      "cell_type": "markdown",
      "metadata": {
        "id": "Tnh75YLdqoal"
      },
      "source": [
        "## Conclusion\n",
        "---"
      ]
    },
    {
      "cell_type": "markdown",
      "metadata": {
        "id": "yt4DtQIhdGMW"
      },
      "source": [
        "In this project, we have successfully built several machine learning models on handwritten digit classification. \n",
        "\n",
        "Simple models such as *Decision Tree* do not achieve a very high accuracy. *Random Forest* performed surprisingly well, was easy to train, and fairly quick. \n",
        "\n",
        "However, the *CNN improved model* performed the best out of all the models tested.  "
      ]
    },
    {
      "cell_type": "code",
      "metadata": {
        "colab": {
          "base_uri": "https://localhost:8080/",
          "height": 189
        },
        "id": "RmhBA3HHIvCI",
        "outputId": "9e64c897-ba5d-4bee-883f-8ef8e6952a66"
      },
      "source": [
        "accuracy= {'Methods': [\"Decison Tree\", \"Random Forest\", \"CNN\", \"CNN improved\"],\n",
        "           'Accuracy': [accuracy_tree, accuracy_RF, accuracy_cnn, accuracy_impr_cnn]}\n",
        "           \n",
        "df=pd.DataFrame(accuracy, columns=['Methods','Accuracy'])\n",
        "df.sort_values(by='Accuracy', ascending=True)"
      ],
      "execution_count": 40,
      "outputs": [
        {
          "output_type": "execute_result",
          "data": {
            "text/html": [
              "<div>\n",
              "<style scoped>\n",
              "    .dataframe tbody tr th:only-of-type {\n",
              "        vertical-align: middle;\n",
              "    }\n",
              "\n",
              "    .dataframe tbody tr th {\n",
              "        vertical-align: top;\n",
              "    }\n",
              "\n",
              "    .dataframe thead th {\n",
              "        text-align: right;\n",
              "    }\n",
              "</style>\n",
              "<table border=\"1\" class=\"dataframe\">\n",
              "  <thead>\n",
              "    <tr style=\"text-align: right;\">\n",
              "      <th></th>\n",
              "      <th>Methods</th>\n",
              "      <th>Accuracy</th>\n",
              "    </tr>\n",
              "  </thead>\n",
              "  <tbody>\n",
              "    <tr>\n",
              "      <th>0</th>\n",
              "      <td>Decison Tree</td>\n",
              "      <td>0.8957</td>\n",
              "    </tr>\n",
              "    <tr>\n",
              "      <th>1</th>\n",
              "      <td>Random Forest</td>\n",
              "      <td>0.9779</td>\n",
              "    </tr>\n",
              "    <tr>\n",
              "      <th>2</th>\n",
              "      <td>CNN</td>\n",
              "      <td>0.9901</td>\n",
              "    </tr>\n",
              "    <tr>\n",
              "      <th>3</th>\n",
              "      <td>CNN improved</td>\n",
              "      <td>0.9939</td>\n",
              "    </tr>\n",
              "  </tbody>\n",
              "</table>\n",
              "</div>"
            ],
            "text/plain": [
              "         Methods  Accuracy\n",
              "0   Decison Tree    0.8957\n",
              "1  Random Forest    0.9779\n",
              "2            CNN    0.9901\n",
              "3   CNN improved    0.9939"
            ]
          },
          "metadata": {
            "tags": []
          },
          "execution_count": 40
        },
        {
          "output_type": "stream",
          "text": [
            "time: 25.8 ms (started: 2021-04-09 15:36:06 +00:00)\n"
          ],
          "name": "stdout"
        }
      ]
    },
    {
      "cell_type": "markdown",
      "metadata": {
        "id": "gRDTuR6Ud-R3"
      },
      "source": [
        "*The time needed to run all the code in this notebook is ~10 minutes using the GPU as hardware accelerator.*"
      ]
    }
  ]
}